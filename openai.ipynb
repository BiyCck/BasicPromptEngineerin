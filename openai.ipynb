{
 "cells": [
  {
   "metadata": {
    "ExecuteTime": {
     "end_time": "2024-05-17T06:30:14.993078Z",
     "start_time": "2024-05-17T06:30:14.584437Z"
    }
   },
   "cell_type": "code",
   "source": "!pip freeze",
   "id": "b01b3552c29ed4fd",
   "outputs": [
    {
     "name": "stdout",
     "output_type": "stream",
     "text": [
      "annotated-types==0.6.0\r\n",
      "anyio==4.3.0\r\n",
      "appnope==0.1.4\r\n",
      "argon2-cffi==23.1.0\r\n",
      "argon2-cffi-bindings==21.2.0\r\n",
      "arrow==1.3.0\r\n",
      "asttokens==2.4.1\r\n",
      "async-lru==2.0.4\r\n",
      "attrs==23.2.0\r\n",
      "Babel==2.14.0\r\n",
      "beautifulsoup4==4.12.3\r\n",
      "bleach==6.1.0\r\n",
      "build==1.0.3\r\n",
      "CacheControl==0.13.1\r\n",
      "certifi==2024.2.2\r\n",
      "cffi==1.16.0\r\n",
      "charset-normalizer==3.3.2\r\n",
      "cleo==2.1.0\r\n",
      "comm==0.2.2\r\n",
      "crashtest==0.4.1\r\n",
      "debugpy==1.8.1\r\n",
      "decorator==5.1.1\r\n",
      "defusedxml==0.7.1\r\n",
      "distlib==0.3.8\r\n",
      "distro==1.9.0\r\n",
      "dulwich==0.21.7\r\n",
      "executing==2.0.1\r\n",
      "fastjsonschema==2.19.1\r\n",
      "filelock==3.13.1\r\n",
      "fqdn==1.5.1\r\n",
      "h11==0.14.0\r\n",
      "httpcore==1.0.5\r\n",
      "httpx==0.27.0\r\n",
      "idna==3.6\r\n",
      "installer==0.7.0\r\n",
      "ipykernel==6.29.4\r\n",
      "ipython==8.24.0\r\n",
      "ipywidgets==8.1.2\r\n",
      "isoduration==20.11.0\r\n",
      "jaraco.classes==3.3.1\r\n",
      "jedi==0.19.1\r\n",
      "Jinja2==3.1.3\r\n",
      "json5==0.9.25\r\n",
      "jsonpointer==2.4\r\n",
      "jsonschema==4.22.0\r\n",
      "jsonschema-specifications==2023.12.1\r\n",
      "jupyter==1.0.0\r\n",
      "jupyter-console==6.6.3\r\n",
      "jupyter-events==0.10.0\r\n",
      "jupyter-lsp==2.2.5\r\n",
      "jupyter_client==8.6.1\r\n",
      "jupyter_core==5.7.2\r\n",
      "jupyter_server==2.14.0\r\n",
      "jupyter_server_terminals==0.5.3\r\n",
      "jupyterlab==4.1.8\r\n",
      "jupyterlab_pygments==0.3.0\r\n",
      "jupyterlab_server==2.27.1\r\n",
      "jupyterlab_widgets==3.0.10\r\n",
      "keyring==24.3.0\r\n",
      "MarkupSafe==2.1.5\r\n",
      "matplotlib-inline==0.1.7\r\n",
      "mistune==3.0.2\r\n",
      "more-itertools==10.2.0\r\n",
      "msgpack==1.0.7\r\n",
      "nbclient==0.10.0\r\n",
      "nbconvert==7.16.4\r\n",
      "nbformat==5.10.4\r\n",
      "nest-asyncio==1.6.0\r\n",
      "notebook==7.1.3\r\n",
      "notebook_shim==0.2.4\r\n",
      "openai==1.30.1\r\n",
      "overrides==7.7.0\r\n",
      "packaging==23.2\r\n",
      "pandocfilters==1.5.1\r\n",
      "parso==0.8.4\r\n",
      "pexpect==4.9.0\r\n",
      "pkginfo==1.9.6\r\n",
      "platformdirs==3.11.0\r\n",
      "poetry==1.7.1\r\n",
      "poetry-core==1.8.1\r\n",
      "poetry-plugin-export==1.6.0\r\n",
      "prometheus_client==0.20.0\r\n",
      "prompt-toolkit==3.0.43\r\n",
      "psutil==5.9.8\r\n",
      "ptyprocess==0.7.0\r\n",
      "pure-eval==0.2.2\r\n",
      "pycparser==2.21\r\n",
      "pydantic==2.7.1\r\n",
      "pydantic_core==2.18.2\r\n",
      "pygame==2.5.2\r\n",
      "Pygments==2.17.2\r\n",
      "pyproject_hooks==1.0.0\r\n",
      "python-dateutil==2.9.0.post0\r\n",
      "python-dotenv==1.0.1\r\n",
      "python-json-logger==2.0.7\r\n",
      "PyYAML==6.0.1\r\n",
      "pyzmq==26.0.3\r\n",
      "qtconsole==5.5.1\r\n",
      "QtPy==2.4.1\r\n",
      "rapidfuzz==3.6.1\r\n",
      "referencing==0.35.1\r\n",
      "requests==2.31.0\r\n",
      "requests-toolbelt==1.0.0\r\n",
      "rfc3339-validator==0.1.4\r\n",
      "rfc3986-validator==0.1.1\r\n",
      "rpds-py==0.18.0\r\n",
      "Send2Trash==1.8.3\r\n",
      "setuptools==69.1.1\r\n",
      "shellingham==1.5.4\r\n",
      "six==1.16.0\r\n",
      "sniffio==1.3.1\r\n",
      "soupsieve==2.5\r\n",
      "stack-data==0.6.3\r\n",
      "terminado==0.18.1\r\n",
      "tinycss2==1.3.0\r\n",
      "tomlkit==0.12.3\r\n",
      "tornado==6.4\r\n",
      "tqdm==4.66.4\r\n",
      "traitlets==5.14.3\r\n",
      "trove-classifiers==2024.2.22\r\n",
      "types-python-dateutil==2.9.0.20240316\r\n",
      "typing_extensions==4.11.0\r\n",
      "uri-template==1.3.0\r\n",
      "urllib3==2.2.1\r\n",
      "virtualenv==20.25.1\r\n",
      "wcwidth==0.2.13\r\n",
      "webcolors==1.13\r\n",
      "webencodings==0.5.1\r\n",
      "websocket-client==1.8.0\r\n",
      "widgetsnbextension==4.0.10\r\n",
      "xattr==0.10.1\r\n"
     ]
    }
   ],
   "execution_count": 9
  },
  {
   "metadata": {
    "ExecuteTime": {
     "end_time": "2024-05-17T06:31:42.806016Z",
     "start_time": "2024-05-17T06:31:42.803203Z"
    }
   },
   "cell_type": "code",
   "source": [
    "import sys\n",
    "print(sys.executable)"
   ],
   "id": "1c61e6077da03e2c",
   "outputs": [
    {
     "name": "stdout",
     "output_type": "stream",
     "text": [
      "/Users/biyan.cicek/Python/nowdwh-application/venv/bin/python\n"
     ]
    }
   ],
   "execution_count": 10
  },
  {
   "metadata": {
    "ExecuteTime": {
     "end_time": "2024-05-17T06:31:52.778421Z",
     "start_time": "2024-05-17T06:31:51.056209Z"
    }
   },
   "cell_type": "code",
   "source": "!{sys.executable} -m pip install openai",
   "id": "499a872cdae4c412",
   "outputs": [
    {
     "name": "stdout",
     "output_type": "stream",
     "text": [
      "Collecting openai\r\n",
      "  Using cached openai-1.30.1-py3-none-any.whl.metadata (21 kB)\r\n",
      "Requirement already satisfied: anyio<5,>=3.5.0 in /Users/biyan.cicek/Python/nowdwh-application/venv/lib/python3.11/site-packages (from openai) (4.2.0)\r\n",
      "Requirement already satisfied: distro<2,>=1.7.0 in /Users/biyan.cicek/Python/nowdwh-application/venv/lib/python3.11/site-packages (from openai) (1.9.0)\r\n",
      "Requirement already satisfied: httpx<1,>=0.23.0 in /Users/biyan.cicek/Python/nowdwh-application/venv/lib/python3.11/site-packages (from openai) (0.26.0)\r\n",
      "Requirement already satisfied: pydantic<3,>=1.9.0 in /Users/biyan.cicek/Python/nowdwh-application/venv/lib/python3.11/site-packages (from openai) (2.6.3)\r\n",
      "Requirement already satisfied: sniffio in /Users/biyan.cicek/Python/nowdwh-application/venv/lib/python3.11/site-packages (from openai) (1.3.0)\r\n",
      "Requirement already satisfied: tqdm>4 in /Users/biyan.cicek/Python/nowdwh-application/venv/lib/python3.11/site-packages (from openai) (4.66.2)\r\n",
      "Requirement already satisfied: typing-extensions<5,>=4.7 in /Users/biyan.cicek/Python/nowdwh-application/venv/lib/python3.11/site-packages (from openai) (4.9.0)\r\n",
      "Requirement already satisfied: idna>=2.8 in /Users/biyan.cicek/Python/nowdwh-application/venv/lib/python3.11/site-packages (from anyio<5,>=3.5.0->openai) (3.6)\r\n",
      "Requirement already satisfied: certifi in /Users/biyan.cicek/Python/nowdwh-application/venv/lib/python3.11/site-packages (from httpx<1,>=0.23.0->openai) (2024.2.2)\r\n",
      "Requirement already satisfied: httpcore==1.* in /Users/biyan.cicek/Python/nowdwh-application/venv/lib/python3.11/site-packages (from httpx<1,>=0.23.0->openai) (1.0.2)\r\n",
      "Requirement already satisfied: h11<0.15,>=0.13 in /Users/biyan.cicek/Python/nowdwh-application/venv/lib/python3.11/site-packages (from httpcore==1.*->httpx<1,>=0.23.0->openai) (0.14.0)\r\n",
      "Requirement already satisfied: annotated-types>=0.4.0 in /Users/biyan.cicek/Python/nowdwh-application/venv/lib/python3.11/site-packages (from pydantic<3,>=1.9.0->openai) (0.6.0)\r\n",
      "Requirement already satisfied: pydantic-core==2.16.3 in /Users/biyan.cicek/Python/nowdwh-application/venv/lib/python3.11/site-packages (from pydantic<3,>=1.9.0->openai) (2.16.3)\r\n",
      "Using cached openai-1.30.1-py3-none-any.whl (320 kB)\r\n",
      "Installing collected packages: openai\r\n",
      "Successfully installed openai-1.30.1\r\n"
     ]
    }
   ],
   "execution_count": 11
  },
  {
   "metadata": {
    "ExecuteTime": {
     "end_time": "2024-05-17T06:35:48.465384Z",
     "start_time": "2024-05-17T06:35:48.461496Z"
    }
   },
   "cell_type": "code",
   "source": [
    "import os\n",
    "\n",
    "from openai import OpenAI\n",
    "from dotenv import load_dotenv"
   ],
   "id": "f658fff2e0da189b",
   "outputs": [],
   "execution_count": 20
  },
  {
   "metadata": {
    "ExecuteTime": {
     "end_time": "2024-05-17T06:35:49.149810Z",
     "start_time": "2024-05-17T06:35:49.132152Z"
    }
   },
   "cell_type": "code",
   "source": [
    "load_dotenv()\n",
    "client = OpenAI(\n",
    "    api_key=os.getenv(\"OPENAI_API_KEY\")\n",
    ")"
   ],
   "id": "ce19aa2286350ba",
   "outputs": [],
   "execution_count": 21
  },
  {
   "metadata": {
    "ExecuteTime": {
     "end_time": "2024-05-17T06:41:10.565403Z",
     "start_time": "2024-05-17T06:41:10.562770Z"
    }
   },
   "cell_type": "code",
   "source": [
    "def get_gpt3_response(instruction):\n",
    "    chat_completion = client.chat.completions.create(\n",
    "        messages=[\n",
    "            {\n",
    "                \"role\": \"user\",\n",
    "                \"content\": instruction,\n",
    "            }\n",
    "        ],\n",
    "        model=\"gpt-3.5-turbo\",\n",
    "    )\n",
    "    print(chat_completion)\n",
    "    return chat_completion.choices[0].message.content"
   ],
   "id": "28b6ede167adb23e",
   "outputs": [],
   "execution_count": 45
  },
  {
   "metadata": {
    "ExecuteTime": {
     "end_time": "2024-05-17T06:41:11.914093Z",
     "start_time": "2024-05-17T06:41:11.008798Z"
    }
   },
   "cell_type": "code",
   "source": [
    "instruction = \"Translate the following English text to French: 'Hello, how are you?'\"\n",
    "answer = get_gpt3_response(instruction)"
   ],
   "id": "d0929812fac4943e",
   "outputs": [
    {
     "name": "stdout",
     "output_type": "stream",
     "text": [
      "ChatCompletion(id='chatcmpl-9PlZ95TL0noKEWm9Ug1gVUss5EaYw', choices=[Choice(finish_reason='stop', index=0, logprobs=None, message=ChatCompletionMessage(content='Bonjour, comment ça va ?', role='assistant', function_call=None, tool_calls=None))], created=1715928071, model='gpt-3.5-turbo-0125', object='chat.completion', system_fingerprint=None, usage=CompletionUsage(completion_tokens=6, prompt_tokens=22, total_tokens=28))\n"
     ]
    }
   ],
   "execution_count": 46
  },
  {
   "metadata": {
    "ExecuteTime": {
     "end_time": "2024-05-17T06:41:13.236128Z",
     "start_time": "2024-05-17T06:41:13.232874Z"
    }
   },
   "cell_type": "code",
   "source": "answer",
   "id": "998df2c5cff4b33d",
   "outputs": [
    {
     "data": {
      "text/plain": [
       "'Bonjour, comment ça va ?'"
      ]
     },
     "execution_count": 47,
     "metadata": {},
     "output_type": "execute_result"
    }
   ],
   "execution_count": 47
  },
  {
   "metadata": {},
   "cell_type": "markdown",
   "source": "## Use Delimiters",
   "id": "70df8c5c365bb2ba"
  },
  {
   "metadata": {
    "ExecuteTime": {
     "end_time": "2024-05-17T06:44:12.787978Z",
     "start_time": "2024-05-17T06:44:11.689925Z"
    }
   },
   "cell_type": "code",
   "source": [
    "delimiter_instruction = \"\"\"\n",
    "Summarize the text delimited by triple quotes with a haiku.\n",
    "\n",
    "```\n",
    "In the history of artificial intelligence, an AI winter is a period of reduced funding and interest in artificial intelligence research. The term was coined by analogy to the idea of a nuclear winter. The field has experienced several hype cycles, followed by disappointment and criticism, followed by funding cuts, followed by renewed interest years or decades later. The term first appeared in 1984 as the topic became controversial and fell out of favor. In the past five years when large-scale AI applications were valued by investors and became major focuses of tech companies, AI \"winter\" seems to have gone and AI \"spring\" seems to have arrived.\n",
    "```\n",
    "\"\"\"\n",
    "\n",
    "answer = get_gpt3_response(delimiter_instruction)\n",
    "print(answer)"
   ],
   "id": "528b08019b5b114b",
   "outputs": [
    {
     "name": "stdout",
     "output_type": "stream",
     "text": [
      "ChatCompletion(id='chatcmpl-9Plc4w4lFY2DM65E4eefduD4oxBGf', choices=[Choice(finish_reason='stop', index=0, logprobs=None, message=ChatCompletionMessage(content='AI research,\\nHype cycles and funding cuts,\\nWinter turns to spring.', role='assistant', function_call=None, tool_calls=None))], created=1715928252, model='gpt-3.5-turbo-0125', object='chat.completion', system_fingerprint=None, usage=CompletionUsage(completion_tokens=15, prompt_tokens=150, total_tokens=165))\n",
      "AI research,\n",
      "Hype cycles and funding cuts,\n",
      "Winter turns to spring.\n"
     ]
    }
   ],
   "execution_count": 50
  },
  {
   "metadata": {},
   "cell_type": "markdown",
   "source": "## Explicitly ask for a structured output",
   "id": "b60fb85dc429a10e"
  },
  {
   "metadata": {
    "ExecuteTime": {
     "end_time": "2024-05-17T06:51:13.127970Z",
     "start_time": "2024-05-17T06:51:10.970752Z"
    }
   },
   "cell_type": "code",
   "source": [
    "structured_output_instruction = \"\"\"\n",
    "Summarize the text delimited by triple quotes with a haiku in 4 bullet points.\n",
    "\n",
    "```\n",
    "In the history of artificial intelligence, an AI winter is a period of reduced funding and interest in artificial intelligence research. The term was coined by analogy to the idea of a nuclear winter. The field has experienced several hype cycles, followed by disappointment and criticism, followed by funding cuts, followed by renewed interest years or decades later. The term first appeared in 1984 as the topic became controversial and fell out of favor. In the past five years when large-scale AI applications were valued by investors and became major focuses of tech companies, AI \"winter\" seems to have gone and AI \"spring\" seems to have arrived.\n",
    "```\n",
    "\n",
    "Provide the summary in the following format:\n",
    "[\n",
    "    \"bullet point\"\n",
    "]\n",
    "\"\"\"\n",
    "\n",
    "answer = get_gpt3_response(structured_output_instruction)\n",
    "print(answer)"
   ],
   "id": "99e7d8c46e8377c1",
   "outputs": [
    {
     "name": "stdout",
     "output_type": "stream",
     "text": [
      "ChatCompletion(id='chatcmpl-9PlipmNPu1bpg6xMRSy1dmK32Stdx', choices=[Choice(finish_reason='stop', index=0, logprobs=None, message=ChatCompletionMessage(content='[\\n    \"AI winter: Reduced funding, interest in AI research\",\\n    \"Coined in 1984, by 90s, funding cuts and disappointment\",\\n    \"Revives years later, past 5 years saw AI spring\",\\n    \"Investors value AI, tech companies focus on large-scale applications\"\\n]', role='assistant', function_call=None, tool_calls=None))], created=1715928671, model='gpt-3.5-turbo-0125', object='chat.completion', system_fingerprint=None, usage=CompletionUsage(completion_tokens=64, prompt_tokens=170, total_tokens=234))\n",
      "[\n",
      "    \"AI winter: Reduced funding, interest in AI research\",\n",
      "    \"Coined in 1984, by 90s, funding cuts and disappointment\",\n",
      "    \"Revives years later, past 5 years saw AI spring\",\n",
      "    \"Investors value AI, tech companies focus on large-scale applications\"\n",
      "]\n"
     ]
    }
   ],
   "execution_count": 61
  },
  {
   "metadata": {},
   "cell_type": "markdown",
   "source": "## Specify the steps required to complete a task",
   "id": "9fb8ea76b8513aa6"
  },
  {
   "metadata": {
    "ExecuteTime": {
     "end_time": "2024-05-17T06:46:59.169369Z",
     "start_time": "2024-05-17T06:46:56.783843Z"
    }
   },
   "cell_type": "code",
   "source": [
    "task_prompt = \"\"\"\n",
    "Use the following step-by-step instructions to respond to user inputs.\n",
    "\n",
    "Step 1 - The user will provide you with text in triple quotes. Summarize this text in one sentence with a prefix that says \"Summary: \".\n",
    "\n",
    "Step 2 - Translate the summary from Step 1 into Spanish, with a prefix that says \"Translation:\".\n",
    "\n",
    "```\n",
    "In the history of artificial intelligence, an AI winter is a period of reduced funding and interest in artificial intelligence research. The term was coined by analogy to the idea of a nuclear winter. The field has experienced several hype cycles, followed by disappointment and criticism, followed by funding cuts, followed by renewed interest years or decades later. The term first appeared in 1984 as the topic became controversial and fell out of favor. In the past five years when large-scale AI applications were valued by investors and became major focuses of tech companies, AI \"winter\" seems to have gone and AI \"spring\" seems to have arrived.\n",
    "```\n",
    "\"\"\"\n",
    "\n",
    "\n",
    "answer = get_gpt3_response(task_prompt)\n",
    "print(answer)"
   ],
   "id": "aa891e5339768cc",
   "outputs": [
    {
     "name": "stdout",
     "output_type": "stream",
     "text": [
      "ChatCompletion(id='chatcmpl-9Plej1gcfbLbVYjvR55nM4A7m8vBb', choices=[Choice(finish_reason='stop', index=0, logprobs=None, message=ChatCompletionMessage(content='Summary: An AI winter refers to periods of decreased funding and interest in artificial intelligence research, similar to the concept of a nuclear winter, followed by renewed interest after disappointment and criticism.\\n\\nTranslation: Un invierno de IA se refiere a períodos de financiamiento e interés reducidos en la investigación de inteligencia artificial, similar al concepto de un invierno nuclear, seguido de un renovado interés después de la decepción y crítica.', role='assistant', function_call=None, tool_calls=None))], created=1715928417, model='gpt-3.5-turbo-0125', object='chat.completion', system_fingerprint=None, usage=CompletionUsage(completion_tokens=96, prompt_tokens=205, total_tokens=301))\n",
      "Summary: An AI winter refers to periods of decreased funding and interest in artificial intelligence research, similar to the concept of a nuclear winter, followed by renewed interest after disappointment and criticism.\n",
      "\n",
      "Translation: Un invierno de IA se refiere a períodos de financiamiento e interés reducidos en la investigación de inteligencia artificial, similar al concepto de un invierno nuclear, seguido de un renovado interés después de la decepción y crítica.\n"
     ]
    }
   ],
   "execution_count": 54
  },
  {
   "metadata": {},
   "cell_type": "code",
   "outputs": [],
   "execution_count": null,
   "source": "",
   "id": "c1bf88c3d4fc0b1"
  }
 ],
 "metadata": {
  "kernelspec": {
   "display_name": "Python 3",
   "language": "python",
   "name": "python3"
  },
  "language_info": {
   "codemirror_mode": {
    "name": "ipython",
    "version": 2
   },
   "file_extension": ".py",
   "mimetype": "text/x-python",
   "name": "python",
   "nbconvert_exporter": "python",
   "pygments_lexer": "ipython2",
   "version": "2.7.6"
  }
 },
 "nbformat": 4,
 "nbformat_minor": 5
}
